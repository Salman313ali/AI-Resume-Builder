{
 "cells": [
  {
   "cell_type": "code",
   "execution_count": 2,
   "id": "7ca1cb76",
   "metadata": {},
   "outputs": [
    {
     "data": {
      "text/plain": [
       "True"
      ]
     },
     "execution_count": 2,
     "metadata": {},
     "output_type": "execute_result"
    }
   ],
   "source": [
    "import os\n",
    "from dotenv import load_dotenv\n",
    "load_dotenv()"
   ]
  },
  {
   "cell_type": "code",
   "execution_count": 3,
   "id": "279c495f",
   "metadata": {},
   "outputs": [
    {
     "name": "stderr",
     "output_type": "stream",
     "text": [
      "c:\\Shark_Stack\\Projects\\Resume_Builder\\builder.py:44: LangChainDeprecationWarning: The class `LLMChain` was deprecated in LangChain 0.1.17 and will be removed in 1.0. Use :meth:`~RunnableSequence, e.g., `prompt | llm`` instead.\n",
      "  summary_chain = LLMChain(llm=llm, prompt=SUMMARY_PROMPT)\n"
     ]
    }
   ],
   "source": [
    "from builder import generate_summary, generate_structured_resume\n",
    "from parser import parse_resume\n",
    "import os\n",
    "import json\n",
    "import re\n",
    "from langchain_groq import ChatGroq\n",
    "from langchain import LLMChain\n",
    "from langchain.prompts import ChatPromptTemplate\n",
    "from typing import Dict, Any\n",
    "from dotenv import load_dotenv"
   ]
  },
  {
   "cell_type": "code",
   "execution_count": 4,
   "id": "a236ac90",
   "metadata": {},
   "outputs": [],
   "source": [
    "# Load environment\n",
    "load_dotenv()\n",
    "GROQ_API_KEY = os.getenv(\"GROQ_API_KEY\")\n",
    "llm = ChatGroq(api_key=GROQ_API_KEY, model_name=\"qwen/qwen3-32b\")\n",
    "# Prompt templates\n",
    "SUMMARY_PROMPT = ChatPromptTemplate.from_messages([\n",
    "    (\"system\", \"act as an professional resume writer. Generate a concise 2-3 sentence summary from the user’s free-form description. ONLY GENERATE THE SUMMARY NO ADDITIONAL TEXT OR HEADING SO I CAN JUST COPY PASTE IT\"),\n",
    "    (\"human\", \"{raw_text}\")\n",
    "])"
   ]
  },
  {
   "cell_type": "code",
   "execution_count": 5,
   "id": "66d35f86",
   "metadata": {},
   "outputs": [],
   "source": [
    "summary_chain = LLMChain(llm=llm, prompt=SUMMARY_PROMPT)\n",
    "# struct_chain = LLMChain(llm=llm, prompt=STRUCT_PROMPT)\n",
    "\n",
    "\n",
    "def generatee_summary(raw_text: str) -> str:\n",
    "    result = summary_chain.predict(raw_text=raw_text)\n",
    "    return result.strip()"
   ]
  },
  {
   "cell_type": "code",
   "execution_count": 6,
   "id": "2155e10e",
   "metadata": {},
   "outputs": [
    {
     "name": "stdout",
     "output_type": "stream",
     "text": [
      "Generated Summary:\n",
      " Computer Science graduate with expertise in AI, ML, and NLP, specializing in RAG applications and advanced model development (e.g., 92% accurate sentiment analysis, character-level transformers). Proven experience in AI project management, cross-platform mobile development (Flutter/Dart), and optimizing high-performance computing solutions (C++, parallel algorithms) for national projects at SUPARCO, alongside leading AI sales and client solutions at LusionTech. Recognized for delivering impactful, technically rigorous solutions across AI research, engineering, and business development.\n"
     ]
    }
   ],
   "source": [
    "import re\n",
    "# Sample free-form text\n",
    "raw_text = \"\"\"\n",
    "PROFILE\n",
    "I am a Computer Science graduate from DHA Suffa University with experience in Machine Learning, Artificial Intelligence, NLP, and\n",
    "Retrieval-Augmented Generation (RAG) applications. I have hands-on expertise in developing advanced models, including a characterlevel transformer for text generation and an NLP-based sentiment analysis tool achieving 92% accuracy. I have completed the Machine\n",
    "Learning Specialization by Stanford Online and DeepLearning.AI , strengthening my technical foundation.\n",
    "In addition to AI and NLP, I have experience in mobile development using Flutter and Dart, creating visually appealing and\n",
    "functional cross-platform applications. As a C++ developer, I contributed to a national-level project at SUPARCO, where I optimized\n",
    "parallel computing algorithms to significantly reduce runtime. Proficient in Python, C++, Flutter, and Rust, I excel in analytical\n",
    "problem-solving and delivering impactful, real-world solutions.\n",
    "SKILLS AI/ML RAG NLP ML Algorithms Flutter Pytorch Streamlit Python C ++ Dart\n",
    "EXPERIENCE\n",
    "LusionTech, AI Business Development Manager\n",
    "AI Sales Management, Projects, and Communication with International Clients\n",
    "2025/01 – present\n",
    "Karachi, Pakistan\n",
    "•Engaged with international clients through strategic meetings and personalized consultations to\n",
    "deliver AI Solutions aligned with their unique business needs.\n",
    "•Managed and oversaw all client-assigned AI projects, ensuring timely execution and high-quality\n",
    "outcomes.\n",
    "SUPARCO, AI Engineer\n",
    "Contract-based job\n",
    "2025/04 – present\n",
    "Karachi, Pakistan\n",
    "•Developing an AI-based data fusion system that integrates optical and SAR imagery transmitted from\n",
    "an airborne observatory to the ground.\n",
    "Research Based Project\n",
    "•Physically Based Phase Function in Volume Rendering\n",
    "2023/03 – present\n",
    "•Objective: Enhance volumetric rendering quality.\n",
    "•Focus: Propose our phase function, which is more physically accurate, showcasing applicability in\n",
    "various use cases, including medical CT scans, MRIs, and animations.\n",
    "SUPARCO, C++ developer\n",
    "•SAR(Synthetic aperture radar) Image formation\n",
    "2024/01 – 2024/05\n",
    "karachi, Pakistan\n",
    "•Develop, convert, optimize algorithms and optimize the code to run parallel on the CPU\n",
    "\"\"\"\n",
    "summary = generatee_summary(raw_text)\n",
    "cleaned_summary = re.sub(r'<think>.*?</think>', '', summary, flags=re.DOTALL).strip()\n",
    "print(\"Generated Summary:\\n\", cleaned_summary)\n"
   ]
  },
  {
   "cell_type": "code",
   "execution_count": 7,
   "id": "d0b56687",
   "metadata": {},
   "outputs": [],
   "source": [
    "# Load JSON schema content to include in prompts\n",
    "schema_path = os.path.join('models/resume_schema.json')\n",
    "with open(schema_path) as f:\n",
    "    raw_schema = f.read()\n",
    "# Escape braces to avoid template interpolation\n",
    "escaped_schema = raw_schema.replace('{', '{{').replace('}', '}}')"
   ]
  },
  {
   "cell_type": "code",
   "execution_count": 8,
   "id": "065e08ed",
   "metadata": {},
   "outputs": [],
   "source": [
    "STRUCT_PROMPT = ChatPromptTemplate.from_messages([\n",
    "    (\"system\", (\n",
    "        \"You are a professional resume writer. Produce a JSON matching the following JSON schema exactly (no extra keys):\\n\"\n",
    "        + escaped_schema\n",
    "    )),\n",
    "    (\"human\", (\n",
    "        \"Name: {name}\\n\"\n",
    "        \"Email: {email}\\n\"\n",
    "        \"Phone: {phone}\\n\\n\"\n",
    "        \"Summary: {summary}\\n\\n\"\n",
    "        \"Free-form description:\\n{raw_text}\"\n",
    "    ))\n",
    "])\n",
    "\n",
    "struct_chain = LLMChain(llm=llm, prompt=STRUCT_PROMPT)\n"
   ]
  },
  {
   "cell_type": "code",
   "execution_count": 9,
   "id": "e7cb5fd8",
   "metadata": {},
   "outputs": [],
   "source": [
    "def generate_structured_resumee(profile: Dict[str, Any], summary: str, raw_text: str) -> str:\n",
    "    result = struct_chain.predict(\n",
    "        name=profile['personal_info']['name'],\n",
    "        email=profile['personal_info']['email'],\n",
    "        phone=profile['personal_info'].get('phone', ''),\n",
    "        summary=summary,\n",
    "        raw_text=raw_text\n",
    "    )\n",
    "    return result.strip()"
   ]
  },
  {
   "cell_type": "code",
   "execution_count": 10,
   "id": "1de15b02",
   "metadata": {},
   "outputs": [
    {
     "name": "stdout",
     "output_type": "stream",
     "text": [
      "Raw JSON Resume:\n",
      " ```json\n",
      "{\n",
      "  \"title\": \"Resume\",\n",
      "  \"personal_info\": {\n",
      "    \"name\": \"Salman\",\n",
      "    \"email\": \"salman313@gmail.com\",\n",
      "    \"phone\": \"123-456-7890\"\n",
      "  },\n",
      "  \"summary\": \"Computer Science graduate with expertise in AI, ML, and NLP, specializing in RAG applications and advanced model development (e.g., 92% accurate sentiment analysis, character-level transformers). Proven experience in AI project management, cross-platform mobile development (Flutter/Dart), and optimizing high-performance computing solutions (C++, parallel algorithms) for national projects at SUPARCO, alongside leading AI sales and client solutions at LusionTech. Recognized for delivering impactful, technically rigorous solutions across AI research, engineering, and business development.\",\n",
      "  \"skills\": [\n",
      "    \"AI/ML\",\n",
      "    \"RAG\",\n",
      "    \"NLP\",\n",
      "    \"ML Algorithms\",\n",
      "    \"Flutter\",\n",
      "    \"PyTorch\",\n",
      "    \"Streamlit\",\n",
      "    \"Python\",\n",
      "    \"C++\",\n",
      "    \"Dart\"\n",
      "  ],\n",
      "  \"experience\": [\n",
      "    {\n",
      "      \"role\": \"AI Business Development Manager\",\n",
      "      \"company\": \"LusionTech\",\n",
      "      \"start_date\": \"2025-01\",\n",
      "      \"end_date\": \"present\",\n",
      "      \"description\": \"Engaged with international clients through strategic meetings and personalized consultations to deliver AI solutions aligned with business needs. Managed and oversaw all client-assigned AI projects, ensuring timely execution and high-quality outcomes.\"\n",
      "    },\n",
      "    {\n",
      "      \"role\": \"AI Engineer\",\n",
      "      \"company\": \"SUPARCO\",\n",
      "      \"start_date\": \"2025-04\",\n",
      "      \"end_date\": \"present\",\n",
      "      \"description\": \"Developing an AI-based data fusion system that integrates optical and SAR imagery transmitted from an airborne observatory to the ground.\"\n",
      "    },\n",
      "    {\n",
      "      \"role\": \"Research Based Project\",\n",
      "      \"company\": \"Research Based Project\",\n",
      "      \"start_date\": \"2023-03\",\n",
      "      \"end_date\": \"present\",\n",
      "      \"description\": \"Objective: Enhance volumetric rendering quality. Focus: Proposed a physically accurate phase function with applicability in medical CT scans, MRIs, and animations.\"\n",
      "    },\n",
      "    {\n",
      "      \"role\": \"C++ Developer\",\n",
      "      \"company\": \"SUPARCO\",\n",
      "      \"start_date\": \"2024-01\",\n",
      "      \"end_date\": \"2024-05\",\n",
      "      \"description\": \"Developed, converted, and optimized algorithms to run parallel on the CPU for SAR (Synthetic Aperture Radar) image formation.\"\n",
      "    }\n",
      "  ]\n",
      "}\n",
      "```\n"
     ]
    }
   ],
   "source": [
    "profile = {\n",
    "    'personal_info': {'name': 'Salman', 'email': 'salman313@gmail.com', 'phone': '123-456-7890'}\n",
    "}\n",
    "raw_json = generate_structured_resumee(profile, cleaned_summary, raw_text)\n",
    "cleaned_json = re.sub(r'<think>.*?</think>', '', raw_json, flags=re.DOTALL).strip()\n",
    "print(\"Raw JSON Resume:\\n\", cleaned_json)\n"
   ]
  },
  {
   "cell_type": "code",
   "execution_count": 11,
   "id": "30c18994",
   "metadata": {},
   "outputs": [],
   "source": [
    "def clean_raw_json(s: str) -> str:\n",
    "    # Remove markdown fences and any leading/trailing text\n",
    "    s = s.strip()\n",
    "    # Remove ```json header/footer if present\n",
    "    if s.startswith(\"```\"):\n",
    "        s = \"\\n\".join(s.splitlines()[1:-1])\n",
    "    return s\n",
    "\n",
    "raw_json = clean_raw_json(cleaned_json)"
   ]
  },
  {
   "cell_type": "code",
   "execution_count": 26,
   "id": "83b97132",
   "metadata": {},
   "outputs": [
    {
     "data": {
      "text/plain": [
       "'{\\n  \"personal_info\": {\\n    \"name\": \"Alice Smith\",\\n    \"email\": \"alice@example.com\",\\n    \"phone\": \"123-456-7890\"\\n  },\\n  \"summary\": \"Computer Science graduate with expertise in AI/ML, NLP, and RAG, demonstrated through hands-on projects like a 92% accurate sentiment analysis tool and a character-level transformer model. Proficient in Python, C++, Flutter, and Rust, with experience leading AI initiatives at LusionTech, engineering data fusion systems at SUPARCO, and optimizing parallel computing algorithms. Blends technical depth with real-world application, supported by advanced training from Stanford and DeepLearning.AI.\",\\n  \"skills\": [\\n    \"AI/ML\",\\n    \"RAG\",\\n    \"NLP\",\\n    \"ML Algorithms\",\\n    \"Flutter\",\\n    \"Pytorch\",\\n    \"Streamlit\",\\n    \"Python\",\\n    \"C++\",\\n    \"Dart\"\\n  ],\\n  \"experience\": [\\n    {\\n      \"role\": \"AI Business Development Manager\",\\n      \"company\": \"LusionTech\",\\n      \"start_date\": \"2025/01\",\\n      \"end_date\": \"present\",\\n      \"description\": \"Engaged with international clients through strategic meetings and personalized consultations to deliver AI Solutions aligned with their unique business needs. Managed and oversaw all client-assigned AI projects, ensuring timely execution and high-quality outcomes.\"\\n    },\\n    {\\n      \"role\": \"AI Engineer\",\\n      \"company\": \"SUPARCO\",\\n      \"start_date\": \"2025/04\",\\n      \"end_date\": \"present\",\\n      \"description\": \"Developing an AI-based data fusion system that integrates optical and SAR imagery transmitted from an airborne observatory to the ground.\"\\n    },\\n    {\\n      \"role\": \"C++ Developer\",\\n      \"company\": \"SUPARCO\",\\n      \"start_date\": \"2024/01\",\\n      \"end_date\": \"2024/05\",\\n      \"description\": \"Developed, converted, and optimized algorithms to run parallel on the CPU for SAR (Synthetic Aperture Radar) image formation.\"\\n    }\\n  ]\\n}'"
      ]
     },
     "execution_count": 26,
     "metadata": {},
     "output_type": "execute_result"
    }
   ],
   "source": [
    "raw_json"
   ]
  },
  {
   "cell_type": "code",
   "execution_count": 12,
   "id": "8122d59a",
   "metadata": {},
   "outputs": [],
   "source": [
    "import json\n",
    "from pydantic import BaseModel, EmailStr\n",
    "from typing import List, Optional\n",
    "\n",
    "class PersonalInfo(BaseModel):\n",
    "    name: str\n",
    "    email: EmailStr\n",
    "    phone: Optional[str] = None\n",
    "\n",
    "class ExperienceItem(BaseModel):\n",
    "    role: str\n",
    "    company: str\n",
    "    start_date: str\n",
    "    end_date: Optional[str] = None  # made optional with default\n",
    "    description: str\n",
    "\n",
    "class Resume(BaseModel):\n",
    "    personal_info: PersonalInfo\n",
    "    summary: str\n",
    "    skills: List[str]\n",
    "    experience: Optional[List[ExperienceItem]] = None  # optional list\n",
    "\n",
    "\n",
    "def parse_resumee(raw_json_str: str) -> Resume:\n",
    "    data = json.loads(raw_json_str)\n",
    "    return Resume(**data)"
   ]
  },
  {
   "cell_type": "code",
   "execution_count": 13,
   "id": "81831be3",
   "metadata": {},
   "outputs": [],
   "source": [
    "resume = parse_resumee(raw_json)\n",
    "# print(\"Parsed Resume Object:\\n\", resume.json(indent=2))"
   ]
  },
  {
   "cell_type": "code",
   "execution_count": 14,
   "id": "d2cb2251",
   "metadata": {},
   "outputs": [
    {
     "data": {
      "text/plain": [
       "Resume(personal_info=PersonalInfo(name='Salman', email='salman313@gmail.com', phone='123-456-7890'), summary='Computer Science graduate with expertise in AI, ML, and NLP, specializing in RAG applications and advanced model development (e.g., 92% accurate sentiment analysis, character-level transformers). Proven experience in AI project management, cross-platform mobile development (Flutter/Dart), and optimizing high-performance computing solutions (C++, parallel algorithms) for national projects at SUPARCO, alongside leading AI sales and client solutions at LusionTech. Recognized for delivering impactful, technically rigorous solutions across AI research, engineering, and business development.', skills=['AI/ML', 'RAG', 'NLP', 'ML Algorithms', 'Flutter', 'PyTorch', 'Streamlit', 'Python', 'C++', 'Dart'], experience=[ExperienceItem(role='AI Business Development Manager', company='LusionTech', start_date='2025-01', end_date='present', description='Engaged with international clients through strategic meetings and personalized consultations to deliver AI solutions aligned with business needs. Managed and oversaw all client-assigned AI projects, ensuring timely execution and high-quality outcomes.'), ExperienceItem(role='AI Engineer', company='SUPARCO', start_date='2025-04', end_date='present', description='Developing an AI-based data fusion system that integrates optical and SAR imagery transmitted from an airborne observatory to the ground.'), ExperienceItem(role='Research Based Project', company='Research Based Project', start_date='2023-03', end_date='present', description='Objective: Enhance volumetric rendering quality. Focus: Proposed a physically accurate phase function with applicability in medical CT scans, MRIs, and animations.'), ExperienceItem(role='C++ Developer', company='SUPARCO', start_date='2024-01', end_date='2024-05', description='Developed, converted, and optimized algorithms to run parallel on the CPU for SAR (Synthetic Aperture Radar) image formation.')])"
      ]
     },
     "execution_count": 14,
     "metadata": {},
     "output_type": "execute_result"
    }
   ],
   "source": [
    "resume"
   ]
  },
  {
   "cell_type": "code",
   "execution_count": 15,
   "id": "330b247a",
   "metadata": {},
   "outputs": [],
   "source": [
    "import argparse\n",
    "import json\n",
    "from builder import generate_summary, generate_structured_resume\n",
    "from parser import parse_resume\n",
    "from reportlab.lib.pagesizes import LETTER\n",
    "from reportlab.pdfgen import canvas\n",
    "\n",
    "from reportlab.lib.pagesizes import letter\n",
    "from reportlab.pdfgen import canvas\n",
    "from reportlab.lib import colors\n",
    "\n",
    "def ssave_outputss(resume, raw_json_path, md_path, pdf_path):\n",
    "    # 1) JSON + MD as before...\n",
    "    raw_json = resume.json()\n",
    "    with open(raw_json_path, 'w') as f:\n",
    "        f.write(raw_json)\n",
    "    with open(md_path, 'w') as f:\n",
    "        f.write(f\"# {resume.personal_info.name}\\n\\n\")\n",
    "        f.write(f\"**Email:** {resume.personal_info.email}  \\n\")\n",
    "        if resume.personal_info.phone:\n",
    "            f.write(f\"**Phone:** {resume.personal_info.phone}  \\n\")\n",
    "        f.write(\"---\\n\\n\")\n",
    "        f.write(f\"## Summary\\n{resume.summary}\\n\\n\")\n",
    "        f.write(\"## Skills\\n\" + \"\\n\".join(f\"- {s}\" for s in resume.skills) + \"\\n\\n\")\n",
    "        if resume.experience:\n",
    "            f.write(\"## Experience\\n\")\n",
    "            for e in resume.experience:\n",
    "                f.write(f\"**{e.role}**, {e.company} ({e.start_date} - {e.end_date or 'Present'})\\n\\n\")\n",
    "                f.write(f\"{e.description}\\n\\n\")\n",
    "\n",
    "    # 2) Pretty PDF generation (adapted from generate_pdfs.py) :contentReference[oaicite:2]{index=2}\n",
    "    c = canvas.Canvas(pdf_path, pagesize=letter)\n",
    "    width, height = letter\n",
    "    margin = 50\n",
    "    y = height - margin\n",
    "    first_page = True\n",
    "\n",
    "    def draw_line():\n",
    "        nonlocal y\n",
    "        c.line(margin, y, width - margin, y)\n",
    "        y -= 20\n",
    "\n",
    "    def add_wrapped_text(prefix=None, text=\"\", font=\"Helvetica\", size=10,\n",
    "                         bold_prefix=False, indent=0):\n",
    "        nonlocal y, first_page\n",
    "        # Paginate if needed\n",
    "        if y < margin + size + 10:\n",
    "            c.showPage()\n",
    "            y = height - margin\n",
    "            first_page = False\n",
    "            # no header on later pages\n",
    "\n",
    "        c.setFont(font, size)\n",
    "        full_text = f\"{prefix}: {text}\" if prefix else text\n",
    "        words = full_text.split(\" \")\n",
    "        lines = []\n",
    "        current = \"\"\n",
    "        for w in words:\n",
    "            test = (current + \" \" + w).strip()\n",
    "            if c.stringWidth(test, font, size) <= (width - 2*margin - indent):\n",
    "                current = test\n",
    "            else:\n",
    "                lines.append(current)\n",
    "                current = w\n",
    "        if current:\n",
    "            lines.append(current)\n",
    "\n",
    "        for line in lines:\n",
    "            x = margin + indent\n",
    "            if prefix and bold_prefix and line.startswith(f\"{prefix}:\"):\n",
    "                # draw the prefix in bold, rest in normal\n",
    "                c.setFont(\"Helvetica-Bold\", size)\n",
    "                prefix_text = f\"{prefix}: \"\n",
    "                pw = c.stringWidth(prefix_text, \"Helvetica-Bold\", size)\n",
    "                c.drawString(x, y, prefix_text)\n",
    "                c.setFont(font, size)\n",
    "                c.drawString(x + pw, y, line[len(prefix_text):])\n",
    "            else:\n",
    "                c.drawString(x, y, line)\n",
    "            y -= size + 2\n",
    "\n",
    "    def add_contact_info():\n",
    "        nonlocal y\n",
    "        c.setFont(\"Helvetica\", 10)\n",
    "        # phone | LinkedIn | Email\n",
    "        contact = f\"Phone: {resume.personal_info.phone or ''} | LinkedIn | Email\"\n",
    "        tw = c.stringWidth(contact, \"Helvetica\", 10)\n",
    "        x = (width - tw) / 2\n",
    "\n",
    "        # Phone\n",
    "        c.drawString(x, y, f\"Phone: {resume.personal_info.phone or ''}\")\n",
    "        x += c.stringWidth(f\"Phone: {resume.personal_info.phone or ''} | \", \"Helvetica\", 10)\n",
    "\n",
    "        # LinkedIn\n",
    "        c.setFillColor(colors.blue)\n",
    "        c.drawString(x, y, \"LinkedIn\")\n",
    "        # assuming resume.personal_info.linkedin exists\n",
    "        c.linkURL('https://www.linkedin.com/', \n",
    "                  (x, y-2, x + c.stringWidth(\"LinkedIn\", \"Helvetica\", 10), y+10), \n",
    "                  relative=0)\n",
    "        x += c.stringWidth(\"LinkedIn | \", \"Helvetica\", 10)\n",
    "\n",
    "        # Email\n",
    "        c.drawString(x, y, \"Email\")\n",
    "        c.linkURL(f\"mailto:{resume.personal_info.email}\",\n",
    "                  (x, y-2, x + c.stringWidth(\"Email\", \"Helvetica\", 10), y+10),\n",
    "                  relative=0)\n",
    "        c.setFillColor(colors.black)\n",
    "        y -= 15\n",
    "\n",
    "    # First‐page header\n",
    "    c.setFont(\"Helvetica-Bold\", 16)\n",
    "    header_x = (width - c.stringWidth(resume.personal_info.name, \"Helvetica-Bold\", 16)) / 2\n",
    "    c.drawString(header_x, y, resume.personal_info.name)\n",
    "    y -= 30\n",
    "\n",
    "    # Contact line + divider\n",
    "    add_contact_info()\n",
    "    draw_line()\n",
    "\n",
    "    # Summary\n",
    "    add_wrapped_text(\"Summary\", resume.summary, size=12, bold_prefix=True)\n",
    "    draw_line()\n",
    "\n",
    "    # (Skip Education section if you haven’t modeled it; otherwise:)\n",
    "    # add_wrapped_text(\"Education\", \"\", size=12, bold_prefix=True)\n",
    "    # for edu in resume.education or []:\n",
    "    #     add_wrapped_text(f\"{edu.degree} - {edu.university}\", \n",
    "    #                      f\"GPA: {edu.gpa} ({edu.graduation_date})\")\n",
    "    # draw_line()\n",
    "\n",
    "    # Technical Skills\n",
    "    add_wrapped_text(\"Technical Skills\", \"\", size=12, bold_prefix=True)\n",
    "    add_wrapped_text(\"Skills\", \", \".join(resume.skills), bold_prefix=True)\n",
    "    draw_line()\n",
    "\n",
    "    # Work Experience\n",
    "    add_wrapped_text(\"Work Experience\", \"\", size=12, bold_prefix=True)\n",
    "    for exp in resume.experience or []:\n",
    "        title = f\"{exp.role} - {exp.company} ({exp.start_date} - {exp.end_date or 'Present'})\"\n",
    "        add_wrapped_text(title, \"\", bold_prefix=True)\n",
    "        for bullet in exp.description.split(\". \"):\n",
    "            if bullet.strip():\n",
    "                add_wrapped_text(\"-\", bullet.strip(), indent=10)\n",
    "    draw_line()\n",
    "\n",
    "    # Project Experience (if present)\n",
    "    # add_wrapped_text(\"Project Experience\", \"\", size=12, bold_prefix=True)\n",
    "    # for proj in getattr(resume, \"projects\", []) or []:\n",
    "    #     add_wrapped_text(proj.name, proj.description, bold_prefix=True)\n",
    "\n",
    "    # Finish up\n",
    "    c.save()\n",
    "    print(f\"Generated: {raw_json_path}, {md_path}, {pdf_path}\")\n",
    "\n",
    "\n",
    "def interactive_mode(md_path, raw_json_path, pdf_path):\n",
    "    name = input('Name: ')\n",
    "    email = input('Email: ')\n",
    "    phone = input('Phone (optional): ')\n",
    "    print('Enter skills & experience paragraphs. End with blank line:')\n",
    "    lines=[]\n",
    "    while True:\n",
    "        l = input()\n",
    "        if not l.strip(): break\n",
    "        lines.append(l)\n",
    "    raw_text='\\n'.join(lines)\n",
    "\n",
    "    summary = generate_summary(raw_text)\n",
    "    profile={'personal_info':{'name':name,'email':email,'phone':phone},'skills':[], 'experience':[]}\n",
    "    # skills & experience are parsed from the structured JSON\n",
    "    raw_json_str = generate_structured_resume(profile, summary, raw_text)\n",
    "    resume = parse_resume(raw_json_str)\n",
    "    save_outputs(resume, raw_json_path, md_path, pdf_path)\n",
    "    print(f\"Outputs: {md_path}, {raw_json_path}, {pdf_path}\")\n",
    "\n",
    "\n",
    "def file_mode(input_path, md_path, raw_json_path, pdf_path):\n",
    "    data = json.load(open(input_path))\n",
    "    raw_text = data.pop('raw_text','')\n",
    "    summary = data.get('summary') or generate_summary(raw_text)\n",
    "    raw_json_str = generate_structured_resume(data, summary, raw_text)\n",
    "    resume = parse_resume(raw_json_str)\n",
    "    save_outputs(resume, raw_json_path, md_path, pdf_path)\n",
    "\n",
    "# if __name__=='__main__':\n",
    "#     parser=argparse.ArgumentParser()\n",
    "#     group=parser.add_mutually_exclusive_group(required=True)\n",
    "#     group.add_argument('--interactive',action='store_true')\n",
    "#     group.add_argument('--input',type=str)\n",
    "#     parser.add_argument('--output-md',default='resume.md')\n",
    "#     parser.add_argument('--output-json',default='raw_resume.json')\n",
    "#     parser.add_argument('--output-pdf',default='resume.pdf')\n",
    "#     args=parser.parse_args()\n",
    "\n",
    "#     if args.interactive:\n",
    "#         interactive_mode(args.output_md, args.output_json, args.output_pdf)\n",
    "#     else:\n",
    "#         file_mode(args.input, args.output_md, args.output_json, args.output_pdf)"
   ]
  },
  {
   "cell_type": "code",
   "execution_count": 16,
   "id": "37898dfe",
   "metadata": {},
   "outputs": [
    {
     "name": "stdout",
     "output_type": "stream",
     "text": [
      "Generated: test_resume.json, test_resume.md, test_resume.pdf\n",
      "Artifacts generated: test_resume.json, test_resume.md, test_resume.pdf\n"
     ]
    },
    {
     "name": "stderr",
     "output_type": "stream",
     "text": [
      "C:\\Users\\Lenovo\\AppData\\Local\\Temp\\ipykernel_22656\\716140464.py:14: PydanticDeprecatedSince20: The `json` method is deprecated; use `model_dump_json` instead. Deprecated in Pydantic V2.0 to be removed in V3.0. See Pydantic V2 Migration Guide at https://errors.pydantic.dev/2.11/migration/\n",
      "  raw_json = resume.json()\n"
     ]
    }
   ],
   "source": [
    "# from main import save_outputss\n",
    "# Save to files|\n",
    "ssave_outputss(resume, 'test_resume.json', 'test_resume.md', 'test_resume.pdf')\n",
    "print(\"Artifacts generated: test_resume.json, test_resume.md, test_resume.pdf\")"
   ]
  },
  {
   "cell_type": "code",
   "execution_count": null,
   "id": "de5ecea5",
   "metadata": {},
   "outputs": [],
   "source": []
  }
 ],
 "metadata": {
  "kernelspec": {
   "display_name": "resume_builder_env",
   "language": "python",
   "name": "python3"
  },
  "language_info": {
   "codemirror_mode": {
    "name": "ipython",
    "version": 3
   },
   "file_extension": ".py",
   "mimetype": "text/x-python",
   "name": "python",
   "nbconvert_exporter": "python",
   "pygments_lexer": "ipython3",
   "version": "3.12.7"
  }
 },
 "nbformat": 4,
 "nbformat_minor": 5
}
